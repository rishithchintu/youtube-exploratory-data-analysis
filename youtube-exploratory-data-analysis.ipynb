{
 "cells": [
  {
   "cell_type": "markdown",
   "id": "38ecd8bf",
   "metadata": {},
   "source": [
    "# YouTube exploratory data analysis"
   ]
  },
  {
   "cell_type": "markdown",
   "id": "46d81d77",
   "metadata": {},
   "source": [
    "# Importing the necessary libraries"
   ]
  },
  {
   "cell_type": "code",
   "execution_count": null,
   "id": "9f3e3ef3",
   "metadata": {},
   "outputs": [],
   "source": [
    "import numpy as np\n",
    "import pandas as pd\n",
    "import matplotlib.pyplot as plt\n",
    "import seaborn as sns\n",
    "import plotly.express as px\n",
    "import plotly.graph_objs as go"
   ]
  },
  {
   "cell_type": "code",
   "execution_count": 2,
   "id": "86db4cc0",
   "metadata": {},
   "outputs": [],
   "source": [
    "import chart_studio.plotly as py\n",
    "import plotly.graph_objs as go \n",
    "from plotly.offline import download_plotlyjs, init_notebook_mode, plot, iplot"
   ]
  },
  {
   "cell_type": "code",
   "execution_count": 3,
   "id": "143f6411",
   "metadata": {},
   "outputs": [
    {
     "data": {
      "text/html": [
       "        <script type=\"text/javascript\">\n",
       "        window.PlotlyConfig = {MathJaxConfig: 'local'};\n",
       "        if (window.MathJax) {MathJax.Hub.Config({SVG: {font: \"STIX-Web\"}});}\n",
       "        if (typeof require !== 'undefined') {\n",
       "        require.undef(\"plotly\");\n",
       "        requirejs.config({\n",
       "            paths: {\n",
       "                'plotly': ['https://cdn.plot.ly/plotly-2.9.0.min']\n",
       "            }\n",
       "        });\n",
       "        require(['plotly'], function(Plotly) {\n",
       "            window._Plotly = Plotly;\n",
       "        });\n",
       "        }\n",
       "        </script>\n",
       "        "
      ]
     },
     "metadata": {},
     "output_type": "display_data"
    }
   ],
   "source": [
    "init_notebook_mode(connected=True) "
   ]
  },
  {
   "cell_type": "markdown",
   "id": "844ba9e8",
   "metadata": {},
   "source": [
    "# Creating a dataframe"
   ]
  },
  {
   "cell_type": "code",
   "execution_count": 4,
   "id": "e9dc5686-a78b-4aee-b141-e9bc8a336d34",
   "metadata": {},
   "outputs": [],
   "source": [
    "df = pd.read_csv('List of most-subscribed YouTube channels (1).csv')"
   ]
  },
  {
   "cell_type": "code",
   "execution_count": 5,
   "id": "098ae751-96a5-4611-9ef3-3b82c455a417",
   "metadata": {},
   "outputs": [
    {
     "data": {
      "text/html": [
       "<div>\n",
       "<style scoped>\n",
       "    .dataframe tbody tr th:only-of-type {\n",
       "        vertical-align: middle;\n",
       "    }\n",
       "\n",
       "    .dataframe tbody tr th {\n",
       "        vertical-align: top;\n",
       "    }\n",
       "\n",
       "    .dataframe thead th {\n",
       "        text-align: right;\n",
       "    }\n",
       "</style>\n",
       "<table border=\"1\" class=\"dataframe\">\n",
       "  <thead>\n",
       "    <tr style=\"text-align: right;\">\n",
       "      <th></th>\n",
       "      <th>Rank</th>\n",
       "      <th>Name</th>\n",
       "      <th>Brand channel</th>\n",
       "      <th>Subscribers (millions)</th>\n",
       "      <th>Primary language</th>\n",
       "      <th>Category</th>\n",
       "      <th>Country</th>\n",
       "    </tr>\n",
       "  </thead>\n",
       "  <tbody>\n",
       "    <tr>\n",
       "      <th>0</th>\n",
       "      <td>1</td>\n",
       "      <td>T-Series</td>\n",
       "      <td>Yes</td>\n",
       "      <td>232.0</td>\n",
       "      <td>Hindi[7][8]</td>\n",
       "      <td>Music</td>\n",
       "      <td>India</td>\n",
       "    </tr>\n",
       "    <tr>\n",
       "      <th>1</th>\n",
       "      <td>2</td>\n",
       "      <td>Cocomelon</td>\n",
       "      <td>Yes</td>\n",
       "      <td>150.0</td>\n",
       "      <td>English</td>\n",
       "      <td>Education</td>\n",
       "      <td>United States</td>\n",
       "    </tr>\n",
       "    <tr>\n",
       "      <th>2</th>\n",
       "      <td>3</td>\n",
       "      <td>Sony Entertainment Television India</td>\n",
       "      <td>Yes</td>\n",
       "      <td>149.0</td>\n",
       "      <td>Hindi[9]</td>\n",
       "      <td>Entertainment</td>\n",
       "      <td>India</td>\n",
       "    </tr>\n",
       "    <tr>\n",
       "      <th>3</th>\n",
       "      <td>4</td>\n",
       "      <td>MrBeast</td>\n",
       "      <td>No</td>\n",
       "      <td>124.0</td>\n",
       "      <td>English</td>\n",
       "      <td>Entertainment</td>\n",
       "      <td>United States</td>\n",
       "    </tr>\n",
       "    <tr>\n",
       "      <th>4</th>\n",
       "      <td>5</td>\n",
       "      <td>PewDiePie</td>\n",
       "      <td>No</td>\n",
       "      <td>111.0</td>\n",
       "      <td>English</td>\n",
       "      <td>Entertainment</td>\n",
       "      <td>Sweden</td>\n",
       "    </tr>\n",
       "    <tr>\n",
       "      <th>5</th>\n",
       "      <td>6</td>\n",
       "      <td>Kids Diana Show</td>\n",
       "      <td>Yes</td>\n",
       "      <td>106.0</td>\n",
       "      <td>English[10][11][12]</td>\n",
       "      <td>Film</td>\n",
       "      <td>Ukraine</td>\n",
       "    </tr>\n",
       "    <tr>\n",
       "      <th>6</th>\n",
       "      <td>7</td>\n",
       "      <td>Like Nastya</td>\n",
       "      <td>No</td>\n",
       "      <td>103.0</td>\n",
       "      <td>English</td>\n",
       "      <td>Entertainment</td>\n",
       "      <td>United States</td>\n",
       "    </tr>\n",
       "    <tr>\n",
       "      <th>7</th>\n",
       "      <td>8</td>\n",
       "      <td>WWE</td>\n",
       "      <td>Yes</td>\n",
       "      <td>92.4</td>\n",
       "      <td>English</td>\n",
       "      <td>Professional wrestling</td>\n",
       "      <td>United States</td>\n",
       "    </tr>\n",
       "    <tr>\n",
       "      <th>8</th>\n",
       "      <td>9</td>\n",
       "      <td>Vlad and Niki</td>\n",
       "      <td>No</td>\n",
       "      <td>91.9</td>\n",
       "      <td>English</td>\n",
       "      <td>Entertainment</td>\n",
       "      <td>Russia</td>\n",
       "    </tr>\n",
       "    <tr>\n",
       "      <th>9</th>\n",
       "      <td>10</td>\n",
       "      <td>Zee Music Company</td>\n",
       "      <td>Yes</td>\n",
       "      <td>91.0</td>\n",
       "      <td>Hindi[13][14]</td>\n",
       "      <td>Music</td>\n",
       "      <td>India</td>\n",
       "    </tr>\n",
       "  </tbody>\n",
       "</table>\n",
       "</div>"
      ],
      "text/plain": [
       "   Rank                                 Name Brand channel  \\\n",
       "0     1                             T-Series           Yes   \n",
       "1     2                            Cocomelon           Yes   \n",
       "2     3  Sony Entertainment Television India           Yes   \n",
       "3     4                              MrBeast            No   \n",
       "4     5                            PewDiePie            No   \n",
       "5     6                      Kids Diana Show           Yes   \n",
       "6     7                          Like Nastya            No   \n",
       "7     8                                  WWE           Yes   \n",
       "8     9                        Vlad and Niki            No   \n",
       "9    10                    Zee Music Company           Yes   \n",
       "\n",
       "   Subscribers (millions)     Primary language                Category  \\\n",
       "0                   232.0          Hindi[7][8]                   Music   \n",
       "1                   150.0              English               Education   \n",
       "2                   149.0             Hindi[9]           Entertainment   \n",
       "3                   124.0              English           Entertainment   \n",
       "4                   111.0              English           Entertainment   \n",
       "5                   106.0  English[10][11][12]                    Film   \n",
       "6                   103.0              English           Entertainment   \n",
       "7                    92.4              English  Professional wrestling   \n",
       "8                    91.9              English           Entertainment   \n",
       "9                    91.0        Hindi[13][14]                   Music   \n",
       "\n",
       "          Country  \n",
       "0           India  \n",
       "1   United States  \n",
       "2           India  \n",
       "3   United States  \n",
       "4          Sweden  \n",
       "5         Ukraine  \n",
       "6   United States  \n",
       "7   United States  \n",
       "8          Russia  \n",
       "9           India  "
      ]
     },
     "execution_count": 5,
     "metadata": {},
     "output_type": "execute_result"
    }
   ],
   "source": [
    "df.head(10)"
   ]
  },
  {
   "cell_type": "markdown",
   "id": "4f530741",
   "metadata": {},
   "source": [
    "# Important information about the dataset"
   ]
  },
  {
   "cell_type": "code",
   "execution_count": 6,
   "id": "c79d4d8e-ea9c-4543-9ae7-c788f60e7a41",
   "metadata": {},
   "outputs": [
    {
     "data": {
      "text/plain": [
       "RangeIndex(start=0, stop=50, step=1)"
      ]
     },
     "execution_count": 6,
     "metadata": {},
     "output_type": "execute_result"
    }
   ],
   "source": [
    "df.index"
   ]
  },
  {
   "cell_type": "code",
   "execution_count": 7,
   "id": "035e54cc-0b26-45f6-a636-19f2a7dc5f03",
   "metadata": {},
   "outputs": [
    {
     "data": {
      "text/plain": [
       "Index(['Rank', 'Name', 'Brand channel', 'Subscribers (millions)',\n",
       "       'Primary language', 'Category', 'Country'],\n",
       "      dtype='object')"
      ]
     },
     "execution_count": 7,
     "metadata": {},
     "output_type": "execute_result"
    }
   ],
   "source": [
    "df.columns"
   ]
  },
  {
   "cell_type": "code",
   "execution_count": 8,
   "id": "8dcce9dd",
   "metadata": {},
   "outputs": [
    {
     "name": "stdout",
     "output_type": "stream",
     "text": [
      "<class 'pandas.core.frame.DataFrame'>\n",
      "RangeIndex: 50 entries, 0 to 49\n",
      "Data columns (total 7 columns):\n",
      " #   Column                  Non-Null Count  Dtype  \n",
      "---  ------                  --------------  -----  \n",
      " 0   Rank                    50 non-null     int64  \n",
      " 1   Name                    50 non-null     object \n",
      " 2   Brand channel           50 non-null     object \n",
      " 3   Subscribers (millions)  50 non-null     float64\n",
      " 4   Primary language        50 non-null     object \n",
      " 5   Category                50 non-null     object \n",
      " 6   Country                 50 non-null     object \n",
      "dtypes: float64(1), int64(1), object(5)\n",
      "memory usage: 2.9+ KB\n"
     ]
    }
   ],
   "source": [
    "df.info()"
   ]
  },
  {
   "cell_type": "code",
   "execution_count": 9,
   "id": "c6ae20a4",
   "metadata": {},
   "outputs": [
    {
     "data": {
      "text/html": [
       "<div>\n",
       "<style scoped>\n",
       "    .dataframe tbody tr th:only-of-type {\n",
       "        vertical-align: middle;\n",
       "    }\n",
       "\n",
       "    .dataframe tbody tr th {\n",
       "        vertical-align: top;\n",
       "    }\n",
       "\n",
       "    .dataframe thead th {\n",
       "        text-align: right;\n",
       "    }\n",
       "</style>\n",
       "<table border=\"1\" class=\"dataframe\">\n",
       "  <thead>\n",
       "    <tr style=\"text-align: right;\">\n",
       "      <th></th>\n",
       "      <th>count</th>\n",
       "      <th>mean</th>\n",
       "      <th>std</th>\n",
       "      <th>min</th>\n",
       "      <th>25%</th>\n",
       "      <th>50%</th>\n",
       "      <th>75%</th>\n",
       "      <th>max</th>\n",
       "    </tr>\n",
       "  </thead>\n",
       "  <tbody>\n",
       "    <tr>\n",
       "      <th>Rank</th>\n",
       "      <td>50.0</td>\n",
       "      <td>25.500</td>\n",
       "      <td>14.577380</td>\n",
       "      <td>1.0</td>\n",
       "      <td>13.25</td>\n",
       "      <td>25.5</td>\n",
       "      <td>37.750</td>\n",
       "      <td>50.0</td>\n",
       "    </tr>\n",
       "    <tr>\n",
       "      <th>Subscribers (millions)</th>\n",
       "      <td>50.0</td>\n",
       "      <td>70.442</td>\n",
       "      <td>34.660653</td>\n",
       "      <td>44.0</td>\n",
       "      <td>50.05</td>\n",
       "      <td>57.5</td>\n",
       "      <td>77.475</td>\n",
       "      <td>232.0</td>\n",
       "    </tr>\n",
       "  </tbody>\n",
       "</table>\n",
       "</div>"
      ],
      "text/plain": [
       "                        count    mean        std   min    25%   50%     75%  \\\n",
       "Rank                     50.0  25.500  14.577380   1.0  13.25  25.5  37.750   \n",
       "Subscribers (millions)   50.0  70.442  34.660653  44.0  50.05  57.5  77.475   \n",
       "\n",
       "                          max  \n",
       "Rank                     50.0  \n",
       "Subscribers (millions)  232.0  "
      ]
     },
     "execution_count": 9,
     "metadata": {},
     "output_type": "execute_result"
    }
   ],
   "source": [
    "df.describe().transpose()"
   ]
  },
  {
   "cell_type": "code",
   "execution_count": 10,
   "id": "42652e41",
   "metadata": {},
   "outputs": [
    {
     "data": {
      "text/html": [
       "<div>\n",
       "<style scoped>\n",
       "    .dataframe tbody tr th:only-of-type {\n",
       "        vertical-align: middle;\n",
       "    }\n",
       "\n",
       "    .dataframe tbody tr th {\n",
       "        vertical-align: top;\n",
       "    }\n",
       "\n",
       "    .dataframe thead th {\n",
       "        text-align: right;\n",
       "    }\n",
       "</style>\n",
       "<table border=\"1\" class=\"dataframe\">\n",
       "  <thead>\n",
       "    <tr style=\"text-align: right;\">\n",
       "      <th></th>\n",
       "      <th>count</th>\n",
       "      <th>unique</th>\n",
       "      <th>top</th>\n",
       "      <th>freq</th>\n",
       "      <th>mean</th>\n",
       "      <th>std</th>\n",
       "      <th>min</th>\n",
       "      <th>25%</th>\n",
       "      <th>50%</th>\n",
       "      <th>75%</th>\n",
       "      <th>max</th>\n",
       "    </tr>\n",
       "  </thead>\n",
       "  <tbody>\n",
       "    <tr>\n",
       "      <th>Rank</th>\n",
       "      <td>50.0</td>\n",
       "      <td>NaN</td>\n",
       "      <td>NaN</td>\n",
       "      <td>NaN</td>\n",
       "      <td>25.5</td>\n",
       "      <td>14.57738</td>\n",
       "      <td>1.0</td>\n",
       "      <td>13.25</td>\n",
       "      <td>25.5</td>\n",
       "      <td>37.75</td>\n",
       "      <td>50.0</td>\n",
       "    </tr>\n",
       "    <tr>\n",
       "      <th>Name</th>\n",
       "      <td>50</td>\n",
       "      <td>49</td>\n",
       "      <td>Sony Music India</td>\n",
       "      <td>2</td>\n",
       "      <td>NaN</td>\n",
       "      <td>NaN</td>\n",
       "      <td>NaN</td>\n",
       "      <td>NaN</td>\n",
       "      <td>NaN</td>\n",
       "      <td>NaN</td>\n",
       "      <td>NaN</td>\n",
       "    </tr>\n",
       "    <tr>\n",
       "      <th>Brand channel</th>\n",
       "      <td>50</td>\n",
       "      <td>2</td>\n",
       "      <td>Yes</td>\n",
       "      <td>31</td>\n",
       "      <td>NaN</td>\n",
       "      <td>NaN</td>\n",
       "      <td>NaN</td>\n",
       "      <td>NaN</td>\n",
       "      <td>NaN</td>\n",
       "      <td>NaN</td>\n",
       "      <td>NaN</td>\n",
       "    </tr>\n",
       "    <tr>\n",
       "      <th>Subscribers (millions)</th>\n",
       "      <td>50.0</td>\n",
       "      <td>NaN</td>\n",
       "      <td>NaN</td>\n",
       "      <td>NaN</td>\n",
       "      <td>70.442</td>\n",
       "      <td>34.660653</td>\n",
       "      <td>44.0</td>\n",
       "      <td>50.05</td>\n",
       "      <td>57.5</td>\n",
       "      <td>77.475</td>\n",
       "      <td>232.0</td>\n",
       "    </tr>\n",
       "    <tr>\n",
       "      <th>Primary language</th>\n",
       "      <td>50</td>\n",
       "      <td>11</td>\n",
       "      <td>English</td>\n",
       "      <td>20</td>\n",
       "      <td>NaN</td>\n",
       "      <td>NaN</td>\n",
       "      <td>NaN</td>\n",
       "      <td>NaN</td>\n",
       "      <td>NaN</td>\n",
       "      <td>NaN</td>\n",
       "      <td>NaN</td>\n",
       "    </tr>\n",
       "    <tr>\n",
       "      <th>Category</th>\n",
       "      <td>50</td>\n",
       "      <td>9</td>\n",
       "      <td>Music</td>\n",
       "      <td>24</td>\n",
       "      <td>NaN</td>\n",
       "      <td>NaN</td>\n",
       "      <td>NaN</td>\n",
       "      <td>NaN</td>\n",
       "      <td>NaN</td>\n",
       "      <td>NaN</td>\n",
       "      <td>NaN</td>\n",
       "    </tr>\n",
       "    <tr>\n",
       "      <th>Country</th>\n",
       "      <td>50</td>\n",
       "      <td>16</td>\n",
       "      <td>India</td>\n",
       "      <td>17</td>\n",
       "      <td>NaN</td>\n",
       "      <td>NaN</td>\n",
       "      <td>NaN</td>\n",
       "      <td>NaN</td>\n",
       "      <td>NaN</td>\n",
       "      <td>NaN</td>\n",
       "      <td>NaN</td>\n",
       "    </tr>\n",
       "  </tbody>\n",
       "</table>\n",
       "</div>"
      ],
      "text/plain": [
       "                       count unique               top freq    mean        std  \\\n",
       "Rank                    50.0    NaN               NaN  NaN    25.5   14.57738   \n",
       "Name                      50     49  Sony Music India    2     NaN        NaN   \n",
       "Brand channel             50      2               Yes   31     NaN        NaN   \n",
       "Subscribers (millions)  50.0    NaN               NaN  NaN  70.442  34.660653   \n",
       "Primary language          50     11           English   20     NaN        NaN   \n",
       "Category                  50      9             Music   24     NaN        NaN   \n",
       "Country                   50     16             India   17     NaN        NaN   \n",
       "\n",
       "                         min    25%   50%     75%    max  \n",
       "Rank                     1.0  13.25  25.5   37.75   50.0  \n",
       "Name                     NaN    NaN   NaN     NaN    NaN  \n",
       "Brand channel            NaN    NaN   NaN     NaN    NaN  \n",
       "Subscribers (millions)  44.0  50.05  57.5  77.475  232.0  \n",
       "Primary language         NaN    NaN   NaN     NaN    NaN  \n",
       "Category                 NaN    NaN   NaN     NaN    NaN  \n",
       "Country                  NaN    NaN   NaN     NaN    NaN  "
      ]
     },
     "execution_count": 10,
     "metadata": {},
     "output_type": "execute_result"
    }
   ],
   "source": [
    "df.describe(include='all').transpose()"
   ]
  },
  {
   "cell_type": "code",
   "execution_count": 11,
   "id": "7bb1e6e4",
   "metadata": {},
   "outputs": [
    {
     "data": {
      "text/plain": [
       "0"
      ]
     },
     "execution_count": 11,
     "metadata": {},
     "output_type": "execute_result"
    }
   ],
   "source": [
    "df.duplicated().sum()"
   ]
  },
  {
   "cell_type": "code",
   "execution_count": 12,
   "id": "ab8f01af",
   "metadata": {},
   "outputs": [
    {
     "data": {
      "text/plain": [
       "Rank                      0\n",
       "Name                      0\n",
       "Brand channel             0\n",
       "Subscribers (millions)    0\n",
       "Primary language          0\n",
       "Category                  0\n",
       "Country                   0\n",
       "dtype: int64"
      ]
     },
     "execution_count": 12,
     "metadata": {},
     "output_type": "execute_result"
    }
   ],
   "source": [
    "df.isnull().sum()"
   ]
  },
  {
   "cell_type": "markdown",
   "id": "c969d215",
   "metadata": {},
   "source": [
    "# Cleaning the 'Primary language' column"
   ]
  },
  {
   "cell_type": "code",
   "execution_count": 13,
   "id": "78c40307",
   "metadata": {},
   "outputs": [
    {
     "data": {
      "text/plain": [
       "0             Hindi[7][8]\n",
       "1                 English\n",
       "2                Hindi[9]\n",
       "3                 English\n",
       "4                 English\n",
       "5     English[10][11][12]\n",
       "6                 English\n",
       "7                 English\n",
       "8                 English\n",
       "9           Hindi[13][14]\n",
       "10                 Korean\n",
       "11                  Hindi\n",
       "12                English\n",
       "13                  Hindi\n",
       "14                 Korean\n",
       "15                English\n",
       "16                 Korean\n",
       "17             Portuguese\n",
       "18                  Hindi\n",
       "19                English\n",
       "20                  Hindi\n",
       "21              Hindi[16]\n",
       "22                  Hindi\n",
       "23                English\n",
       "24                English\n",
       "25                  Hindi\n",
       "26                English\n",
       "27                  Hindi\n",
       "28               Bhojpuri\n",
       "29                  Hindi\n",
       "30                  Hindi\n",
       "31                English\n",
       "32                Spanish\n",
       "33                English\n",
       "34                English\n",
       "35                English\n",
       "36                English\n",
       "37                  Hindi\n",
       "38                English\n",
       "39                  Hindi\n",
       "40                English\n",
       "41                Spanish\n",
       "42                Spanish\n",
       "43                Spanish\n",
       "44                Spanish\n",
       "45             Portuguese\n",
       "46                  Hindi\n",
       "47                English\n",
       "48             Portuguese\n",
       "49             Portuguese\n",
       "Name: Primary language, dtype: object"
      ]
     },
     "execution_count": 13,
     "metadata": {},
     "output_type": "execute_result"
    }
   ],
   "source": [
    "df['Primary language']"
   ]
  },
  {
   "cell_type": "code",
   "execution_count": 14,
   "id": "762739fc",
   "metadata": {},
   "outputs": [],
   "source": [
    "def cleanLang(str):\n",
    "    only_alpha = \"\"\n",
    "    for char in str:\n",
    "        if(char.isalpha()==True):\n",
    "            only_alpha +=char\n",
    "    return only_alpha"
   ]
  },
  {
   "cell_type": "code",
   "execution_count": 15,
   "id": "c0d37dc0",
   "metadata": {},
   "outputs": [],
   "source": [
    "df['Primary language'] = df['Primary language'].apply(cleanLang)"
   ]
  },
  {
   "cell_type": "code",
   "execution_count": 16,
   "id": "e391892d",
   "metadata": {},
   "outputs": [
    {
     "data": {
      "text/html": [
       "<div>\n",
       "<style scoped>\n",
       "    .dataframe tbody tr th:only-of-type {\n",
       "        vertical-align: middle;\n",
       "    }\n",
       "\n",
       "    .dataframe tbody tr th {\n",
       "        vertical-align: top;\n",
       "    }\n",
       "\n",
       "    .dataframe thead th {\n",
       "        text-align: right;\n",
       "    }\n",
       "</style>\n",
       "<table border=\"1\" class=\"dataframe\">\n",
       "  <thead>\n",
       "    <tr style=\"text-align: right;\">\n",
       "      <th></th>\n",
       "      <th>Rank</th>\n",
       "      <th>Name</th>\n",
       "      <th>Brand channel</th>\n",
       "      <th>Subscribers (millions)</th>\n",
       "      <th>Primary language</th>\n",
       "      <th>Category</th>\n",
       "      <th>Country</th>\n",
       "    </tr>\n",
       "  </thead>\n",
       "  <tbody>\n",
       "    <tr>\n",
       "      <th>0</th>\n",
       "      <td>1</td>\n",
       "      <td>T-Series</td>\n",
       "      <td>Yes</td>\n",
       "      <td>232.0</td>\n",
       "      <td>Hindi</td>\n",
       "      <td>Music</td>\n",
       "      <td>India</td>\n",
       "    </tr>\n",
       "    <tr>\n",
       "      <th>1</th>\n",
       "      <td>2</td>\n",
       "      <td>Cocomelon</td>\n",
       "      <td>Yes</td>\n",
       "      <td>150.0</td>\n",
       "      <td>English</td>\n",
       "      <td>Education</td>\n",
       "      <td>United States</td>\n",
       "    </tr>\n",
       "    <tr>\n",
       "      <th>2</th>\n",
       "      <td>3</td>\n",
       "      <td>Sony Entertainment Television India</td>\n",
       "      <td>Yes</td>\n",
       "      <td>149.0</td>\n",
       "      <td>Hindi</td>\n",
       "      <td>Entertainment</td>\n",
       "      <td>India</td>\n",
       "    </tr>\n",
       "    <tr>\n",
       "      <th>3</th>\n",
       "      <td>4</td>\n",
       "      <td>MrBeast</td>\n",
       "      <td>No</td>\n",
       "      <td>124.0</td>\n",
       "      <td>English</td>\n",
       "      <td>Entertainment</td>\n",
       "      <td>United States</td>\n",
       "    </tr>\n",
       "    <tr>\n",
       "      <th>4</th>\n",
       "      <td>5</td>\n",
       "      <td>PewDiePie</td>\n",
       "      <td>No</td>\n",
       "      <td>111.0</td>\n",
       "      <td>English</td>\n",
       "      <td>Entertainment</td>\n",
       "      <td>Sweden</td>\n",
       "    </tr>\n",
       "    <tr>\n",
       "      <th>5</th>\n",
       "      <td>6</td>\n",
       "      <td>Kids Diana Show</td>\n",
       "      <td>Yes</td>\n",
       "      <td>106.0</td>\n",
       "      <td>English</td>\n",
       "      <td>Film</td>\n",
       "      <td>Ukraine</td>\n",
       "    </tr>\n",
       "    <tr>\n",
       "      <th>6</th>\n",
       "      <td>7</td>\n",
       "      <td>Like Nastya</td>\n",
       "      <td>No</td>\n",
       "      <td>103.0</td>\n",
       "      <td>English</td>\n",
       "      <td>Entertainment</td>\n",
       "      <td>United States</td>\n",
       "    </tr>\n",
       "    <tr>\n",
       "      <th>7</th>\n",
       "      <td>8</td>\n",
       "      <td>WWE</td>\n",
       "      <td>Yes</td>\n",
       "      <td>92.4</td>\n",
       "      <td>English</td>\n",
       "      <td>Professional wrestling</td>\n",
       "      <td>United States</td>\n",
       "    </tr>\n",
       "    <tr>\n",
       "      <th>8</th>\n",
       "      <td>9</td>\n",
       "      <td>Vlad and Niki</td>\n",
       "      <td>No</td>\n",
       "      <td>91.9</td>\n",
       "      <td>English</td>\n",
       "      <td>Entertainment</td>\n",
       "      <td>Russia</td>\n",
       "    </tr>\n",
       "    <tr>\n",
       "      <th>9</th>\n",
       "      <td>10</td>\n",
       "      <td>Zee Music Company</td>\n",
       "      <td>Yes</td>\n",
       "      <td>91.0</td>\n",
       "      <td>Hindi</td>\n",
       "      <td>Music</td>\n",
       "      <td>India</td>\n",
       "    </tr>\n",
       "  </tbody>\n",
       "</table>\n",
       "</div>"
      ],
      "text/plain": [
       "   Rank                                 Name Brand channel  \\\n",
       "0     1                             T-Series           Yes   \n",
       "1     2                            Cocomelon           Yes   \n",
       "2     3  Sony Entertainment Television India           Yes   \n",
       "3     4                              MrBeast            No   \n",
       "4     5                            PewDiePie            No   \n",
       "5     6                      Kids Diana Show           Yes   \n",
       "6     7                          Like Nastya            No   \n",
       "7     8                                  WWE           Yes   \n",
       "8     9                        Vlad and Niki            No   \n",
       "9    10                    Zee Music Company           Yes   \n",
       "\n",
       "   Subscribers (millions) Primary language                Category  \\\n",
       "0                   232.0            Hindi                   Music   \n",
       "1                   150.0          English               Education   \n",
       "2                   149.0            Hindi           Entertainment   \n",
       "3                   124.0          English           Entertainment   \n",
       "4                   111.0          English           Entertainment   \n",
       "5                   106.0          English                    Film   \n",
       "6                   103.0          English           Entertainment   \n",
       "7                    92.4          English  Professional wrestling   \n",
       "8                    91.9          English           Entertainment   \n",
       "9                    91.0            Hindi                   Music   \n",
       "\n",
       "          Country  \n",
       "0           India  \n",
       "1   United States  \n",
       "2           India  \n",
       "3   United States  \n",
       "4          Sweden  \n",
       "5         Ukraine  \n",
       "6   United States  \n",
       "7   United States  \n",
       "8          Russia  \n",
       "9           India  "
      ]
     },
     "execution_count": 16,
     "metadata": {},
     "output_type": "execute_result"
    }
   ],
   "source": [
    "df.head(10)"
   ]
  },
  {
   "cell_type": "markdown",
   "id": "5ea5805b",
   "metadata": {},
   "source": [
    "# Cleaning the 'Country' column"
   ]
  },
  {
   "cell_type": "code",
   "execution_count": 17,
   "id": "5e07eac0",
   "metadata": {},
   "outputs": [
    {
     "data": {
      "text/plain": [
       " India                           17\n",
       " United States                   12\n",
       " South Korea                      4\n",
       " Brazil                           4\n",
       " Cyprus[a]                        2\n",
       " Sweden                           1\n",
       " Ukraine                          1\n",
       " Russia                           1\n",
       " Canada                           1\n",
       " Argentina                        1\n",
       " United Kingdom                   1\n",
       " Romania                          1\n",
       " Chile                            1\n",
       " Mexico                           1\n",
       " El Salvador                      1\n",
       " United States ( Puerto Rico)     1\n",
       "Name: Country, dtype: int64"
      ]
     },
     "execution_count": 17,
     "metadata": {},
     "output_type": "execute_result"
    }
   ],
   "source": [
    "df['Country'].value_counts()"
   ]
  },
  {
   "cell_type": "code",
   "execution_count": 18,
   "id": "56a8e56f",
   "metadata": {},
   "outputs": [
    {
     "data": {
      "text/html": [
       "<div>\n",
       "<style scoped>\n",
       "    .dataframe tbody tr th:only-of-type {\n",
       "        vertical-align: middle;\n",
       "    }\n",
       "\n",
       "    .dataframe tbody tr th {\n",
       "        vertical-align: top;\n",
       "    }\n",
       "\n",
       "    .dataframe thead th {\n",
       "        text-align: right;\n",
       "    }\n",
       "</style>\n",
       "<table border=\"1\" class=\"dataframe\">\n",
       "  <thead>\n",
       "    <tr style=\"text-align: right;\">\n",
       "      <th></th>\n",
       "      <th>Rank</th>\n",
       "      <th>Name</th>\n",
       "      <th>Brand channel</th>\n",
       "      <th>Subscribers (millions)</th>\n",
       "      <th>Primary language</th>\n",
       "      <th>Category</th>\n",
       "      <th>Country</th>\n",
       "    </tr>\n",
       "  </thead>\n",
       "  <tbody>\n",
       "    <tr>\n",
       "      <th>12</th>\n",
       "      <td>13</td>\n",
       "      <td>5-Minute Crafts</td>\n",
       "      <td>Yes</td>\n",
       "      <td>78.2</td>\n",
       "      <td>English</td>\n",
       "      <td>How-to</td>\n",
       "      <td>Cyprus[a]</td>\n",
       "    </tr>\n",
       "    <tr>\n",
       "      <th>47</th>\n",
       "      <td>48</td>\n",
       "      <td>Bright Side</td>\n",
       "      <td>Yes</td>\n",
       "      <td>44.3</td>\n",
       "      <td>English</td>\n",
       "      <td>Education</td>\n",
       "      <td>Cyprus[a]</td>\n",
       "    </tr>\n",
       "  </tbody>\n",
       "</table>\n",
       "</div>"
      ],
      "text/plain": [
       "    Rank             Name Brand channel  Subscribers (millions)  \\\n",
       "12    13  5-Minute Crafts           Yes                    78.2   \n",
       "47    48      Bright Side           Yes                    44.3   \n",
       "\n",
       "   Primary language   Category     Country  \n",
       "12          English     How-to   Cyprus[a]  \n",
       "47          English  Education   Cyprus[a]  "
      ]
     },
     "execution_count": 18,
     "metadata": {},
     "output_type": "execute_result"
    }
   ],
   "source": [
    "df[df['Country']=='\\xa0Cyprus[a]']"
   ]
  },
  {
   "cell_type": "code",
   "execution_count": 19,
   "id": "d74ad219",
   "metadata": {},
   "outputs": [],
   "source": [
    "df['Country'] = df['Country'].replace('\\xa0Cyprus[a]','Cyprus')"
   ]
  },
  {
   "cell_type": "markdown",
   "id": "6081f2e6",
   "metadata": {},
   "source": [
    "# Total number of Youtube channels in each Category"
   ]
  },
  {
   "cell_type": "code",
   "execution_count": 20,
   "id": "9315ed2e",
   "metadata": {},
   "outputs": [
    {
     "data": {
      "image/png": "[encoded data removed]",
      "text/plain": [
       "<Figure size 1008x432 with 1 Axes>"
      ]
     },
     "metadata": {
      "needs_background": "light"
     },
     "output_type": "display_data"
    }
   ],
   "source": [
    "fig = plt.figure(figsize=(14,6))\n",
    "\n",
    "ax = sns.histplot(x='Category', data=df, hue='Brand channel')\n",
    "ax.set_title('Total number of Youtube channels in each Category')\n",
    "\n",
    "plt.show()"
   ]
  },
  {
   "cell_type": "markdown",
   "id": "d8240ae8",
   "metadata": {},
   "source": [
    "# Total number of Youtube channels for each Language"
   ]
  },
  {
   "cell_type": "code",
   "execution_count": 21,
   "id": "1583b0bb",
   "metadata": {},
   "outputs": [
    {
     "data": {
      "image/png": "[encoded data removed]",
      "text/plain": [
       "<Figure size 1008x432 with 1 Axes>"
      ]
     },
     "metadata": {
      "needs_background": "light"
     },
     "output_type": "display_data"
    }
   ],
   "source": [
    "fig = plt.figure(figsize=(14,6))\n",
    "\n",
    "ax = sns.histplot(x='Primary language', data=df,)\n",
    "ax.set_title('Total number of Youtube channels for each Language')\n",
    "\n",
    "plt.show()"
   ]
  },
  {
   "cell_type": "markdown",
   "id": "4e81362b",
   "metadata": {},
   "source": [
    "# Total Number of Youtube channels for each Country"
   ]
  },
  {
   "cell_type": "code",
   "execution_count": 22,
   "id": "10650858",
   "metadata": {},
   "outputs": [
    {
     "data": {
      "image/png": "[encoded data removed]",
      "text/plain": [
       "<Figure size 432x288 with 1 Axes>"
      ]
     },
     "metadata": {
      "needs_background": "light"
     },
     "output_type": "display_data"
    }
   ],
   "source": [
    "x = df['Country'].value_counts().values\n",
    "y = df['Country'].value_counts().index\n",
    "\n",
    "ax = sns.barplot(x=x, y=y, data=df, palette='rocket')\n",
    "ax.set_xlabel('Number of channels')\n",
    "ax.set_ylabel('Countries')\n",
    "ax.set_title('Total Number of Youtube channels for each Country')\n",
    "\n",
    "plt.show()"
   ]
  },
  {
   "cell_type": "markdown",
   "id": "26e8dc05",
   "metadata": {},
   "source": [
    "# Countplot for Brand channel"
   ]
  },
  {
   "cell_type": "code",
   "execution_count": 23,
   "id": "ee67d122",
   "metadata": {},
   "outputs": [
    {
     "data": {
      "image/png": "[encoded data removed]",
      "text/plain": [
       "<Figure size 432x576 with 1 Axes>"
      ]
     },
     "metadata": {
      "needs_background": "light"
     },
     "output_type": "display_data"
    }
   ],
   "source": [
    "fig = plt.figure(figsize=(6,8))\n",
    "\n",
    "ax = sns.countplot(x='Brand channel', data=df)\n",
    "ax.set_title('Countplot for Brand channel')\n",
    "\n",
    "plt.show()"
   ]
  },
  {
   "cell_type": "markdown",
   "id": "c3e2888a",
   "metadata": {},
   "source": [
    "# Total number of Subscribers for each Language"
   ]
  },
  {
   "cell_type": "code",
   "execution_count": 24,
   "id": "6c2d88fa",
   "metadata": {},
   "outputs": [
    {
     "data": {
      "text/html": [
       "<div>\n",
       "<style scoped>\n",
       "    .dataframe tbody tr th:only-of-type {\n",
       "        vertical-align: middle;\n",
       "    }\n",
       "\n",
       "    .dataframe tbody tr th {\n",
       "        vertical-align: top;\n",
       "    }\n",
       "\n",
       "    .dataframe thead th {\n",
       "        text-align: right;\n",
       "    }\n",
       "</style>\n",
       "<table border=\"1\" class=\"dataframe\">\n",
       "  <thead>\n",
       "    <tr style=\"text-align: right;\">\n",
       "      <th></th>\n",
       "      <th>Subscribers (millions)</th>\n",
       "    </tr>\n",
       "    <tr>\n",
       "      <th>Primary language</th>\n",
       "      <th></th>\n",
       "    </tr>\n",
       "  </thead>\n",
       "  <tbody>\n",
       "    <tr>\n",
       "      <th>Bhojpuri</th>\n",
       "      <td>55.3</td>\n",
       "    </tr>\n",
       "    <tr>\n",
       "      <th>English</th>\n",
       "      <td>1565.5</td>\n",
       "    </tr>\n",
       "    <tr>\n",
       "      <th>Hindi</th>\n",
       "      <td>1239.0</td>\n",
       "    </tr>\n",
       "    <tr>\n",
       "      <th>Korean</th>\n",
       "      <td>225.5</td>\n",
       "    </tr>\n",
       "    <tr>\n",
       "      <th>Portuguese</th>\n",
       "      <td>199.0</td>\n",
       "    </tr>\n",
       "    <tr>\n",
       "      <th>Spanish</th>\n",
       "      <td>237.8</td>\n",
       "    </tr>\n",
       "  </tbody>\n",
       "</table>\n",
       "</div>"
      ],
      "text/plain": [
       "                  Subscribers (millions)\n",
       "Primary language                        \n",
       "Bhojpuri                            55.3\n",
       "English                           1565.5\n",
       "Hindi                             1239.0\n",
       "Korean                             225.5\n",
       "Portuguese                         199.0\n",
       "Spanish                            237.8"
      ]
     },
     "execution_count": 24,
     "metadata": {},
     "output_type": "execute_result"
    }
   ],
   "source": [
    "df[['Subscribers (millions)','Primary language']].groupby('Primary language').sum()"
   ]
  },
  {
   "cell_type": "code",
   "execution_count": 25,
   "id": "185224a8",
   "metadata": {},
   "outputs": [
    {
     "data": {
      "image/png": "[encoded data removed]",
      "text/plain": [
       "<Figure size 576x432 with 1 Axes>"
      ]
     },
     "metadata": {
      "needs_background": "light"
     },
     "output_type": "display_data"
    }
   ],
   "source": [
    "x = df[['Subscribers (millions)','Primary language']].groupby('Primary language').sum().index\n",
    "y = df[['Subscribers (millions)','Primary language']].groupby('Primary language').sum().values\n",
    "y = y.flatten()\n",
    "data = df[['Subscribers (millions)','Primary language']].groupby('Primary language').sum()\n",
    "\n",
    "fig = plt.figure(figsize=(8,6))\n",
    "ax = sns.barplot(x=x, y=y,data=data, palette='icefire')\n",
    "ax.set_title('Total number of Subscribers for each Language')\n",
    "ax.set_ylabel('Total number of Subscribers')\n",
    "\n",
    "plt.show()"
   ]
  },
  {
   "cell_type": "markdown",
   "id": "693f46a5",
   "metadata": {},
   "source": [
    "# Total number of Subscribers for each Category"
   ]
  },
  {
   "cell_type": "code",
   "execution_count": 26,
   "id": "83592707",
   "metadata": {},
   "outputs": [
    {
     "data": {
      "image/png": "[encoded data removed]",
      "text/plain": [
       "<Figure size 864x432 with 1 Axes>"
      ]
     },
     "metadata": {
      "needs_background": "light"
     },
     "output_type": "display_data"
    }
   ],
   "source": [
    "x = df[['Subscribers (millions)','Category']].groupby('Category').sum().index\n",
    "y = df[['Subscribers (millions)','Category']].groupby('Category').sum().values\n",
    "y = y.flatten()\n",
    "data = df[['Subscribers (millions)','Category']].groupby('Category').sum()\n",
    "\n",
    "fig = plt.figure(figsize=(12,6))\n",
    "ax = sns.barplot(x=x, y=y,data=data, palette='icefire')\n",
    "ax.set_title('Total number of Subscribers for each Category')\n",
    "ax.set_ylabel('Total number of Subscribers')\n",
    "\n",
    "plt.show()"
   ]
  },
  {
   "cell_type": "markdown",
   "id": "829e6a10",
   "metadata": {},
   "source": [
    "# Total number of Subscribers for each Country"
   ]
  },
  {
   "cell_type": "code",
   "execution_count": 27,
   "id": "096d94cf",
   "metadata": {},
   "outputs": [
    {
     "data": {
      "image/png": "[encoded data removed]",
      "text/plain": [
       "<Figure size 864x432 with 1 Axes>"
      ]
     },
     "metadata": {
      "needs_background": "light"
     },
     "output_type": "display_data"
    }
   ],
   "source": [
    "x = df[['Subscribers (millions)','Country']].groupby('Country').sum().values\n",
    "x = x.flatten()\n",
    "y = df[['Subscribers (millions)','Country']].groupby('Country').sum().index\n",
    "\n",
    "data = df[['Subscribers (millions)','Country']].groupby('Country').sum()\n",
    "fig = plt.figure(figsize=(12,6))\n",
    "ax = sns.barplot(x=x, y=y,data=data, palette='icefire')\n",
    "ax.set_title('Total number of Subscribers for each Country')\n",
    "ax.set_xlabel('Total number of Subscribers')\n",
    "ax.set_ylabel('Country')\n",
    "\n",
    "plt.show()"
   ]
  },
  {
   "cell_type": "code",
   "execution_count": 28,
   "id": "e8f3d7ef",
   "metadata": {},
   "outputs": [
    {
     "data": {
      "text/html": [
       "<div>\n",
       "<style scoped>\n",
       "    .dataframe tbody tr th:only-of-type {\n",
       "        vertical-align: middle;\n",
       "    }\n",
       "\n",
       "    .dataframe tbody tr th {\n",
       "        vertical-align: top;\n",
       "    }\n",
       "\n",
       "    .dataframe thead th {\n",
       "        text-align: right;\n",
       "    }\n",
       "</style>\n",
       "<table border=\"1\" class=\"dataframe\">\n",
       "  <thead>\n",
       "    <tr style=\"text-align: right;\">\n",
       "      <th></th>\n",
       "      <th>Rank</th>\n",
       "      <th>Name</th>\n",
       "      <th>Brand channel</th>\n",
       "      <th>Subscribers (millions)</th>\n",
       "      <th>Primary language</th>\n",
       "      <th>Category</th>\n",
       "      <th>Country</th>\n",
       "    </tr>\n",
       "  </thead>\n",
       "  <tbody>\n",
       "    <tr>\n",
       "      <th>0</th>\n",
       "      <td>1</td>\n",
       "      <td>T-Series</td>\n",
       "      <td>Yes</td>\n",
       "      <td>232.0</td>\n",
       "      <td>Hindi</td>\n",
       "      <td>Music</td>\n",
       "      <td>India</td>\n",
       "    </tr>\n",
       "    <tr>\n",
       "      <th>1</th>\n",
       "      <td>2</td>\n",
       "      <td>Cocomelon</td>\n",
       "      <td>Yes</td>\n",
       "      <td>150.0</td>\n",
       "      <td>English</td>\n",
       "      <td>Education</td>\n",
       "      <td>United States</td>\n",
       "    </tr>\n",
       "    <tr>\n",
       "      <th>2</th>\n",
       "      <td>3</td>\n",
       "      <td>Sony Entertainment Television India</td>\n",
       "      <td>Yes</td>\n",
       "      <td>149.0</td>\n",
       "      <td>Hindi</td>\n",
       "      <td>Entertainment</td>\n",
       "      <td>India</td>\n",
       "    </tr>\n",
       "    <tr>\n",
       "      <th>3</th>\n",
       "      <td>4</td>\n",
       "      <td>MrBeast</td>\n",
       "      <td>No</td>\n",
       "      <td>124.0</td>\n",
       "      <td>English</td>\n",
       "      <td>Entertainment</td>\n",
       "      <td>United States</td>\n",
       "    </tr>\n",
       "    <tr>\n",
       "      <th>4</th>\n",
       "      <td>5</td>\n",
       "      <td>PewDiePie</td>\n",
       "      <td>No</td>\n",
       "      <td>111.0</td>\n",
       "      <td>English</td>\n",
       "      <td>Entertainment</td>\n",
       "      <td>Sweden</td>\n",
       "    </tr>\n",
       "  </tbody>\n",
       "</table>\n",
       "</div>"
      ],
      "text/plain": [
       "   Rank                                 Name Brand channel  \\\n",
       "0     1                             T-Series           Yes   \n",
       "1     2                            Cocomelon           Yes   \n",
       "2     3  Sony Entertainment Television India           Yes   \n",
       "3     4                              MrBeast            No   \n",
       "4     5                            PewDiePie            No   \n",
       "\n",
       "   Subscribers (millions) Primary language       Category         Country  \n",
       "0                   232.0            Hindi          Music           India  \n",
       "1                   150.0          English      Education   United States  \n",
       "2                   149.0            Hindi  Entertainment           India  \n",
       "3                   124.0          English  Entertainment   United States  \n",
       "4                   111.0          English  Entertainment          Sweden  "
      ]
     },
     "execution_count": 28,
     "metadata": {},
     "output_type": "execute_result"
    }
   ],
   "source": [
    "df.head()"
   ]
  },
  {
   "cell_type": "markdown",
   "id": "419e7e09",
   "metadata": {},
   "source": [
    "# Total number of Subscribers for each Country"
   ]
  },
  {
   "cell_type": "code",
   "execution_count": 29,
   "id": "2e529769",
   "metadata": {},
   "outputs": [
    {
     "data": {
      "application/vnd.plotly.v1+json": {
       "config": {
        "linkText": "Export to plot.ly",
        "plotlyServerURL": "https://plot.ly",
        "showLink": false
       },
       "data": [
        {
         "colorbar": {
          "title": {
           "text": "Subscribers"
          }
         },
         "locationmode": "country names",
         "locations": [
          "Cyprus",
          " Argentina",
          " Brazil",
          " Canada",
          " Chile",
          " El Salvador",
          " India",
          " Mexico",
          " Romania",
          " Russia",
          " South Korea",
          " Sweden",
          " Ukraine",
          " United Kingdom",
          " United States",
          " United States ( Puerto Rico)"
         ],
         "text": [
          122.5,
          54.4,
          199,
          70.7,
          46.9,
          45.5,
          1294.3,
          46.2,
          51.8,
          91.9,
          289.09999999999997,
          111,
          106,
          52.7,
          895.3,
          44.8
         ],
         "type": "choropleth",
         "z": [
          122.5,
          54.4,
          199,
          70.7,
          46.9,
          45.5,
          1294.3,
          46.2,
          51.8,
          91.9,
          289.09999999999997,
          111,
          106,
          52.7,
          895.3,
          44.8
         ]
        }
       ],
       "layout": {
        "geo": {
         "projection": {
          "type": "mercator"
         },
         "showframe": true
        },
        "template": {
         "data": {
          "bar": [
           {
            "error_x": {
             "color": "#2a3f5f"
            },
            "error_y": {
             "color": "#2a3f5f"
            },
            "marker": {
             "line": {
              "color": "#E5ECF6",
              "width": 0.5
             },
             "pattern": {
              "fillmode": "overlay",
              "size": 10,
              "solidity": 0.2
             }
            },
            "type": "bar"
           }
          ],
          "barpolar": [
           {
            "marker": {
             "line": {
              "color": "#E5ECF6",
              "width": 0.5
             },
             "pattern": {
              "fillmode": "overlay",
              "size": 10,
              "solidity": 0.2
             }
            },
            "type": "barpolar"
           }
          ],
          "carpet": [
           {
            "aaxis": {
             "endlinecolor": "#2a3f5f",
             "gridcolor": "white",
             "linecolor": "white",
             "minorgridcolor": "white",
             "startlinecolor": "#2a3f5f"
            },
            "baxis": {
             "endlinecolor": "#2a3f5f",
             "gridcolor": "white",
             "linecolor": "white",
             "minorgridcolor": "white",
             "startlinecolor": "#2a3f5f"
            },
            "type": "carpet"
           }
          ],
          "choropleth": [
           {
            "colorbar": {
             "outlinewidth": 0,
             "ticks": ""
            },
            "type": "choropleth"
           }
          ],
          "contour": [
           {
            "colorbar": {
             "outlinewidth": 0,
             "ticks": ""
            },
            "colorscale": [
             [
              0,
              "#0d0887"
             ],
             [
              0.1111111111111111,
              "#46039f"
             ],
             [
              0.2222222222222222,
              "#7201a8"
             ],
             [
              0.3333333333333333,
              "#9c179e"
             ],
             [
              0.4444444444444444,
              "#bd3786"
             ],
             [
              0.5555555555555556,
              "#d8576b"
             ],
             [
              0.6666666666666666,
              "#ed7953"
             ],
             [
              0.7777777777777778,
              "#fb9f3a"
             ],
             [
              0.8888888888888888,
              "#fdca26"
             ],
             [
              1,
              "#f0f921"
             ]
            ],
            "type": "contour"
           }
          ],
          "contourcarpet": [
           {
            "colorbar": {
             "outlinewidth": 0,
             "ticks": ""
            },
            "type": "contourcarpet"
           }
          ],
          "heatmap": [
           {
            "colorbar": {
             "outlinewidth": 0,
             "ticks": ""
            },
            "colorscale": [
             [
              0,
              "#0d0887"
             ],
             [
              0.1111111111111111,
              "#46039f"
             ],
             [
              0.2222222222222222,
              "#7201a8"
             ],
             [
              0.3333333333333333,
              "#9c179e"
             ],
             [
              0.4444444444444444,
              "#bd3786"
             ],
             [
              0.5555555555555556,
              "#d8576b"
             ],
             [
              0.6666666666666666,
              "#ed7953"
             ],
             [
              0.7777777777777778,
              "#fb9f3a"
             ],
             [
              0.8888888888888888,
              "#fdca26"
             ],
             [
              1,
              "#f0f921"
             ]
            ],
            "type": "heatmap"
           }
          ],
          "heatmapgl": [
           {
            "colorbar": {
             "outlinewidth": 0,
             "ticks": ""
            },
            "colorscale": [
             [
              0,
              "#0d0887"
             ],
             [
              0.1111111111111111,
              "#46039f"
             ],
             [
              0.2222222222222222,
              "#7201a8"
             ],
             [
              0.3333333333333333,
              "#9c179e"
             ],
             [
              0.4444444444444444,
              "#bd3786"
             ],
             [
              0.5555555555555556,
              "#d8576b"
             ],
             [
              0.6666666666666666,
              "#ed7953"
             ],
             [
              0.7777777777777778,
              "#fb9f3a"
             ],
             [
              0.8888888888888888,
              "#fdca26"
             ],
             [
              1,
              "#f0f921"
             ]
            ],
            "type": "heatmapgl"
           }
          ],
          "histogram": [
           {
            "marker": {
             "pattern": {
              "fillmode": "overlay",
              "size": 10,
              "solidity": 0.2
             }
            },
            "type": "histogram"
           }
          ],
          "histogram2d": [
           {
            "colorbar": {
             "outlinewidth": 0,
             "ticks": ""
            },
            "colorscale": [
             [
              0,
              "#0d0887"
             ],
             [
              0.1111111111111111,
              "#46039f"
             ],
             [
              0.2222222222222222,
              "#7201a8"
             ],
             [
              0.3333333333333333,
              "#9c179e"
             ],
             [
              0.4444444444444444,
              "#bd3786"
             ],
             [
              0.5555555555555556,
              "#d8576b"
             ],
             [
              0.6666666666666666,
              "#ed7953"
             ],
             [
              0.7777777777777778,
              "#fb9f3a"
             ],
             [
              0.8888888888888888,
              "#fdca26"
             ],
             [
              1,
              "#f0f921"
             ]
            ],
            "type": "histogram2d"
           }
          ],
          "histogram2dcontour": [
           {
            "colorbar": {
             "outlinewidth": 0,
             "ticks": ""
            },
            "colorscale": [
             [
              0,
              "#0d0887"
             ],
             [
              0.1111111111111111,
              "#46039f"
             ],
             [
              0.2222222222222222,
              "#7201a8"
             ],
             [
              0.3333333333333333,
              "#9c179e"
             ],
             [
              0.4444444444444444,
              "#bd3786"
             ],
             [
              0.5555555555555556,
              "#d8576b"
             ],
             [
              0.6666666666666666,
              "#ed7953"
             ],
             [
              0.7777777777777778,
              "#fb9f3a"
             ],
             [
              0.8888888888888888,
              "#fdca26"
             ],
             [
              1,
              "#f0f921"
             ]
            ],
            "type": "histogram2dcontour"
           }
          ],
          "mesh3d": [
           {
            "colorbar": {
             "outlinewidth": 0,
             "ticks": ""
            },
            "type": "mesh3d"
           }
          ],
          "parcoords": [
           {
            "line": {
             "colorbar": {
              "outlinewidth": 0,
              "ticks": ""
             }
            },
            "type": "parcoords"
           }
          ],
          "pie": [
           {
            "automargin": true,
            "type": "pie"
           }
          ],
          "scatter": [
           {
            "marker": {
             "colorbar": {
              "outlinewidth": 0,
              "ticks": ""
             }
            },
            "type": "scatter"
           }
          ],
          "scatter3d": [
           {
            "line": {
             "colorbar": {
              "outlinewidth": 0,
              "ticks": ""
             }
            },
            "marker": {
             "colorbar": {
              "outlinewidth": 0,
              "ticks": ""
             }
            },
            "type": "scatter3d"
           }
          ],
          "scattercarpet": [
           {
            "marker": {
             "colorbar": {
              "outlinewidth": 0,
              "ticks": ""
             }
            },
            "type": "scattercarpet"
           }
          ],
          "scattergeo": [
           {
            "marker": {
             "colorbar": {
              "outlinewidth": 0,
              "ticks": ""
             }
            },
            "type": "scattergeo"
           }
          ],
          "scattergl": [
           {
            "marker": {
             "colorbar": {
              "outlinewidth": 0,
              "ticks": ""
             }
            },
            "type": "scattergl"
           }
          ],
          "scattermapbox": [
           {
            "marker": {
             "colorbar": {
              "outlinewidth": 0,
              "ticks": ""
             }
            },
            "type": "scattermapbox"
           }
          ],
          "scatterpolar": [
           {
            "marker": {
             "colorbar": {
              "outlinewidth": 0,
              "ticks": ""
             }
            },
            "type": "scatterpolar"
           }
          ],
          "scatterpolargl": [
           {
            "marker": {
             "colorbar": {
              "outlinewidth": 0,
              "ticks": ""
             }
            },
            "type": "scatterpolargl"
           }
          ],
          "scatterternary": [
           {
            "marker": {
             "colorbar": {
              "outlinewidth": 0,
              "ticks": ""
             }
            },
            "type": "scatterternary"
           }
          ],
          "surface": [
           {
            "colorbar": {
             "outlinewidth": 0,
             "ticks": ""
            },
            "colorscale": [
             [
              0,
              "#0d0887"
             ],
             [
              0.1111111111111111,
              "#46039f"
             ],
             [
              0.2222222222222222,
              "#7201a8"
             ],
             [
              0.3333333333333333,
              "#9c179e"
             ],
             [
              0.4444444444444444,
              "#bd3786"
             ],
             [
              0.5555555555555556,
              "#d8576b"
             ],
             [
              0.6666666666666666,
              "#ed7953"
             ],
             [
              0.7777777777777778,
              "#fb9f3a"
             ],
             [
              0.8888888888888888,
              "#fdca26"
             ],
             [
              1,
              "#f0f921"
             ]
            ],
            "type": "surface"
           }
          ],
          "table": [
           {
            "cells": {
             "fill": {
              "color": "#EBF0F8"
             },
             "line": {
              "color": "white"
             }
            },
            "header": {
             "fill": {
              "color": "#C8D4E3"
             },
             "line": {
              "color": "white"
             }
            },
            "type": "table"
           }
          ]
         },
         "layout": {
          "annotationdefaults": {
           "arrowcolor": "#2a3f5f",
           "arrowhead": 0,
           "arrowwidth": 1
          },
          "autotypenumbers": "strict",
          "coloraxis": {
           "colorbar": {
            "outlinewidth": 0,
            "ticks": ""
           }
          },
          "colorscale": {
           "diverging": [
            [
             0,
             "#8e0152"
            ],
            [
             0.1,
             "#c51b7d"
            ],
            [
             0.2,
             "#de77ae"
            ],
            [
             0.3,
             "#f1b6da"
            ],
            [
             0.4,
             "#fde0ef"
            ],
            [
             0.5,
             "#f7f7f7"
            ],
            [
             0.6,
             "#e6f5d0"
            ],
            [
             0.7,
             "#b8e186"
            ],
            [
             0.8,
             "#7fbc41"
            ],
            [
             0.9,
             "#4d9221"
            ],
            [
             1,
             "#276419"
            ]
           ],
           "sequential": [
            [
             0,
             "#0d0887"
            ],
            [
             0.1111111111111111,
             "#46039f"
            ],
            [
             0.2222222222222222,
             "#7201a8"
            ],
            [
             0.3333333333333333,
             "#9c179e"
            ],
            [
             0.4444444444444444,
             "#bd3786"
            ],
            [
             0.5555555555555556,
             "#d8576b"
            ],
            [
             0.6666666666666666,
             "#ed7953"
            ],
            [
             0.7777777777777778,
             "#fb9f3a"
            ],
            [
             0.8888888888888888,
             "#fdca26"
            ],
            [
             1,
             "#f0f921"
            ]
           ],
           "sequentialminus": [
            [
             0,
             "#0d0887"
            ],
            [
             0.1111111111111111,
             "#46039f"
            ],
            [
             0.2222222222222222,
             "#7201a8"
            ],
            [
             0.3333333333333333,
             "#9c179e"
            ],
            [
             0.4444444444444444,
             "#bd3786"
            ],
            [
             0.5555555555555556,
             "#d8576b"
            ],
            [
             0.6666666666666666,
             "#ed7953"
            ],
            [
             0.7777777777777778,
             "#fb9f3a"
            ],
            [
             0.8888888888888888,
             "#fdca26"
            ],
            [
             1,
             "#f0f921"
            ]
           ]
          },
          "colorway": [
           "#636efa",
           "#EF553B",
           "#00cc96",
           "#ab63fa",
           "#FFA15A",
           "#19d3f3",
           "#FF6692",
           "#B6E880",
           "#FF97FF",
           "#FECB52"
          ],
          "font": {
           "color": "#2a3f5f"
          },
          "geo": {
           "bgcolor": "white",
           "lakecolor": "white",
           "landcolor": "#E5ECF6",
           "showlakes": true,
           "showland": true,
           "subunitcolor": "white"
          },
          "hoverlabel": {
           "align": "left"
          },
          "hovermode": "closest",
          "mapbox": {
           "style": "light"
          },
          "paper_bgcolor": "white",
          "plot_bgcolor": "#E5ECF6",
          "polar": {
           "angularaxis": {
            "gridcolor": "white",
            "linecolor": "white",
            "ticks": ""
           },
           "bgcolor": "#E5ECF6",
           "radialaxis": {
            "gridcolor": "white",
            "linecolor": "white",
            "ticks": ""
           }
          },
          "scene": {
           "xaxis": {
            "backgroundcolor": "#E5ECF6",
            "gridcolor": "white",
            "gridwidth": 2,
            "linecolor": "white",
            "showbackground": true,
            "ticks": "",
            "zerolinecolor": "white"
           },
           "yaxis": {
            "backgroundcolor": "#E5ECF6",
            "gridcolor": "white",
            "gridwidth": 2,
            "linecolor": "white",
            "showbackground": true,
            "ticks": "",
            "zerolinecolor": "white"
           },
           "zaxis": {
            "backgroundcolor": "#E5ECF6",
            "gridcolor": "white",
            "gridwidth": 2,
            "linecolor": "white",
            "showbackground": true,
            "ticks": "",
            "zerolinecolor": "white"
           }
          },
          "shapedefaults": {
           "line": {
            "color": "#2a3f5f"
           }
          },
          "ternary": {
           "aaxis": {
            "gridcolor": "white",
            "linecolor": "white",
            "ticks": ""
           },
           "baxis": {
            "gridcolor": "white",
            "linecolor": "white",
            "ticks": ""
           },
           "bgcolor": "#E5ECF6",
           "caxis": {
            "gridcolor": "white",
            "linecolor": "white",
            "ticks": ""
           }
          },
          "title": {
           "x": 0.05
          },
          "xaxis": {
           "automargin": true,
           "gridcolor": "white",
           "linecolor": "white",
           "ticks": "",
           "title": {
            "standoff": 15
           },
           "zerolinecolor": "white",
           "zerolinewidth": 2
          },
          "yaxis": {
           "automargin": true,
           "gridcolor": "white",
           "linecolor": "white",
           "ticks": "",
           "title": {
            "standoff": 15
           },
           "zerolinecolor": "white",
           "zerolinewidth": 2
          }
         }
        },
        "title": {
         "text": "Total number of Subscribers for each Country"
        }
       }
      },
      "text/html": [
       "<div>                            <div id=\"c4329306-870b-4368-8b6e-2575d75e1e7b\" class=\"plotly-graph-div\" style=\"height:525px; width:100%;\"></div>            <script type=\"text/javascript\">                require([\"plotly\"], function(Plotly) {                    window.PLOTLYENV=window.PLOTLYENV || {};                                    if (document.getElementById(\"c4329306-870b-4368-8b6e-2575d75e1e7b\")) {                    Plotly.newPlot(                        \"c4329306-870b-4368-8b6e-2575d75e1e7b\",                        [{\"colorbar\":{\"title\":{\"text\":\"Subscribers\"}},\"locationmode\":\"country names\",\"locations\":[\"Cyprus\",\"\\u00a0Argentina\",\"\\u00a0Brazil\",\"\\u00a0Canada\",\"\\u00a0Chile\",\"\\u00a0El Salvador\",\"\\u00a0India\",\"\\u00a0Mexico\",\"\\u00a0Romania\",\"\\u00a0Russia\",\"\\u00a0South Korea\",\"\\u00a0Sweden\",\"\\u00a0Ukraine\",\"\\u00a0United Kingdom\",\"\\u00a0United States\",\"\\u00a0United States\\u00a0(\\u00a0Puerto Rico)\"],\"text\":[122.5,54.4,199.0,70.7,46.9,45.5,1294.3,46.2,51.8,91.9,289.09999999999997,111.0,106.0,52.7,895.3,44.8],\"z\":[122.5,54.4,199.0,70.7,46.9,45.5,1294.3,46.2,51.8,91.9,289.09999999999997,111.0,106.0,52.7,895.3,44.8],\"type\":\"choropleth\"}],                        {\"geo\":{\"projection\":{\"type\":\"mercator\"},\"showframe\":true},\"template\":{\"data\":{\"barpolar\":[{\"marker\":{\"line\":{\"color\":\"#E5ECF6\",\"width\":0.5},\"pattern\":{\"fillmode\":\"overlay\",\"size\":10,\"solidity\":0.2}},\"type\":\"barpolar\"}],\"bar\":[{\"error_x\":{\"color\":\"#2a3f5f\"},\"error_y\":{\"color\":\"#2a3f5f\"},\"marker\":{\"line\":{\"color\":\"#E5ECF6\",\"width\":0.5},\"pattern\":{\"fillmode\":\"overlay\",\"size\":10,\"solidity\":0.2}},\"type\":\"bar\"}],\"carpet\":[{\"aaxis\":{\"endlinecolor\":\"#2a3f5f\",\"gridcolor\":\"white\",\"linecolor\":\"white\",\"minorgridcolor\":\"white\",\"startlinecolor\":\"#2a3f5f\"},\"baxis\":{\"endlinecolor\":\"#2a3f5f\",\"gridcolor\":\"white\",\"linecolor\":\"white\",\"minorgridcolor\":\"white\",\"startlinecolor\":\"#2a3f5f\"},\"type\":\"carpet\"}],\"choropleth\":[{\"colorbar\":{\"outlinewidth\":0,\"ticks\":\"\"},\"type\":\"choropleth\"}],\"contourcarpet\":[{\"colorbar\":{\"outlinewidth\":0,\"ticks\":\"\"},\"type\":\"contourcarpet\"}],\"contour\":[{\"colorbar\":{\"outlinewidth\":0,\"ticks\":\"\"},\"colorscale\":[[0.0,\"#0d0887\"],[0.1111111111111111,\"#46039f\"],[0.2222222222222222,\"#7201a8\"],[0.3333333333333333,\"#9c179e\"],[0.4444444444444444,\"#bd3786\"],[0.5555555555555556,\"#d8576b\"],[0.6666666666666666,\"#ed7953\"],[0.7777777777777778,\"#fb9f3a\"],[0.8888888888888888,\"#fdca26\"],[1.0,\"#f0f921\"]],\"type\":\"contour\"}],\"heatmapgl\":[{\"colorbar\":{\"outlinewidth\":0,\"ticks\":\"\"},\"colorscale\":[[0.0,\"#0d0887\"],[0.1111111111111111,\"#46039f\"],[0.2222222222222222,\"#7201a8\"],[0.3333333333333333,\"#9c179e\"],[0.4444444444444444,\"#bd3786\"],[0.5555555555555556,\"#d8576b\"],[0.6666666666666666,\"#ed7953\"],[0.7777777777777778,\"#fb9f3a\"],[0.8888888888888888,\"#fdca26\"],[1.0,\"#f0f921\"]],\"type\":\"heatmapgl\"}],\"heatmap\":[{\"colorbar\":{\"outlinewidth\":0,\"ticks\":\"\"},\"colorscale\":[[0.0,\"#0d0887\"],[0.1111111111111111,\"#46039f\"],[0.2222222222222222,\"#7201a8\"],[0.3333333333333333,\"#9c179e\"],[0.4444444444444444,\"#bd3786\"],[0.5555555555555556,\"#d8576b\"],[0.6666666666666666,\"#ed7953\"],[0.7777777777777778,\"#fb9f3a\"],[0.8888888888888888,\"#fdca26\"],[1.0,\"#f0f921\"]],\"type\":\"heatmap\"}],\"histogram2dcontour\":[{\"colorbar\":{\"outlinewidth\":0,\"ticks\":\"\"},\"colorscale\":[[0.0,\"#0d0887\"],[0.1111111111111111,\"#46039f\"],[0.2222222222222222,\"#7201a8\"],[0.3333333333333333,\"#9c179e\"],[0.4444444444444444,\"#bd3786\"],[0.5555555555555556,\"#d8576b\"],[0.6666666666666666,\"#ed7953\"],[0.7777777777777778,\"#fb9f3a\"],[0.8888888888888888,\"#fdca26\"],[1.0,\"#f0f921\"]],\"type\":\"histogram2dcontour\"}],\"histogram2d\":[{\"colorbar\":{\"outlinewidth\":0,\"ticks\":\"\"},\"colorscale\":[[0.0,\"#0d0887\"],[0.1111111111111111,\"#46039f\"],[0.2222222222222222,\"#7201a8\"],[0.3333333333333333,\"#9c179e\"],[0.4444444444444444,\"#bd3786\"],[0.5555555555555556,\"#d8576b\"],[0.6666666666666666,\"#ed7953\"],[0.7777777777777778,\"#fb9f3a\"],[0.8888888888888888,\"#fdca26\"],[1.0,\"#f0f921\"]],\"type\":\"histogram2d\"}],\"histogram\":[{\"marker\":{\"pattern\":{\"fillmode\":\"overlay\",\"size\":10,\"solidity\":0.2}},\"type\":\"histogram\"}],\"mesh3d\":[{\"colorbar\":{\"outlinewidth\":0,\"ticks\":\"\"},\"type\":\"mesh3d\"}],\"parcoords\":[{\"line\":{\"colorbar\":{\"outlinewidth\":0,\"ticks\":\"\"}},\"type\":\"parcoords\"}],\"pie\":[{\"automargin\":true,\"type\":\"pie\"}],\"scatter3d\":[{\"line\":{\"colorbar\":{\"outlinewidth\":0,\"ticks\":\"\"}},\"marker\":{\"colorbar\":{\"outlinewidth\":0,\"ticks\":\"\"}},\"type\":\"scatter3d\"}],\"scattercarpet\":[{\"marker\":{\"colorbar\":{\"outlinewidth\":0,\"ticks\":\"\"}},\"type\":\"scattercarpet\"}],\"scattergeo\":[{\"marker\":{\"colorbar\":{\"outlinewidth\":0,\"ticks\":\"\"}},\"type\":\"scattergeo\"}],\"scattergl\":[{\"marker\":{\"colorbar\":{\"outlinewidth\":0,\"ticks\":\"\"}},\"type\":\"scattergl\"}],\"scattermapbox\":[{\"marker\":{\"colorbar\":{\"outlinewidth\":0,\"ticks\":\"\"}},\"type\":\"scattermapbox\"}],\"scatterpolargl\":[{\"marker\":{\"colorbar\":{\"outlinewidth\":0,\"ticks\":\"\"}},\"type\":\"scatterpolargl\"}],\"scatterpolar\":[{\"marker\":{\"colorbar\":{\"outlinewidth\":0,\"ticks\":\"\"}},\"type\":\"scatterpolar\"}],\"scatter\":[{\"marker\":{\"colorbar\":{\"outlinewidth\":0,\"ticks\":\"\"}},\"type\":\"scatter\"}],\"scatterternary\":[{\"marker\":{\"colorbar\":{\"outlinewidth\":0,\"ticks\":\"\"}},\"type\":\"scatterternary\"}],\"surface\":[{\"colorbar\":{\"outlinewidth\":0,\"ticks\":\"\"},\"colorscale\":[[0.0,\"#0d0887\"],[0.1111111111111111,\"#46039f\"],[0.2222222222222222,\"#7201a8\"],[0.3333333333333333,\"#9c179e\"],[0.4444444444444444,\"#bd3786\"],[0.5555555555555556,\"#d8576b\"],[0.6666666666666666,\"#ed7953\"],[0.7777777777777778,\"#fb9f3a\"],[0.8888888888888888,\"#fdca26\"],[1.0,\"#f0f921\"]],\"type\":\"surface\"}],\"table\":[{\"cells\":{\"fill\":{\"color\":\"#EBF0F8\"},\"line\":{\"color\":\"white\"}},\"header\":{\"fill\":{\"color\":\"#C8D4E3\"},\"line\":{\"color\":\"white\"}},\"type\":\"table\"}]},\"layout\":{\"annotationdefaults\":{\"arrowcolor\":\"#2a3f5f\",\"arrowhead\":0,\"arrowwidth\":1},\"autotypenumbers\":\"strict\",\"coloraxis\":{\"colorbar\":{\"outlinewidth\":0,\"ticks\":\"\"}},\"colorscale\":{\"diverging\":[[0,\"#8e0152\"],[0.1,\"#c51b7d\"],[0.2,\"#de77ae\"],[0.3,\"#f1b6da\"],[0.4,\"#fde0ef\"],[0.5,\"#f7f7f7\"],[0.6,\"#e6f5d0\"],[0.7,\"#b8e186\"],[0.8,\"#7fbc41\"],[0.9,\"#4d9221\"],[1,\"#276419\"]],\"sequential\":[[0.0,\"#0d0887\"],[0.1111111111111111,\"#46039f\"],[0.2222222222222222,\"#7201a8\"],[0.3333333333333333,\"#9c179e\"],[0.4444444444444444,\"#bd3786\"],[0.5555555555555556,\"#d8576b\"],[0.6666666666666666,\"#ed7953\"],[0.7777777777777778,\"#fb9f3a\"],[0.8888888888888888,\"#fdca26\"],[1.0,\"#f0f921\"]],\"sequentialminus\":[[0.0,\"#0d0887\"],[0.1111111111111111,\"#46039f\"],[0.2222222222222222,\"#7201a8\"],[0.3333333333333333,\"#9c179e\"],[0.4444444444444444,\"#bd3786\"],[0.5555555555555556,\"#d8576b\"],[0.6666666666666666,\"#ed7953\"],[0.7777777777777778,\"#fb9f3a\"],[0.8888888888888888,\"#fdca26\"],[1.0,\"#f0f921\"]]},\"colorway\":[\"#636efa\",\"#EF553B\",\"#00cc96\",\"#ab63fa\",\"#FFA15A\",\"#19d3f3\",\"#FF6692\",\"#B6E880\",\"#FF97FF\",\"#FECB52\"],\"font\":{\"color\":\"#2a3f5f\"},\"geo\":{\"bgcolor\":\"white\",\"lakecolor\":\"white\",\"landcolor\":\"#E5ECF6\",\"showlakes\":true,\"showland\":true,\"subunitcolor\":\"white\"},\"hoverlabel\":{\"align\":\"left\"},\"hovermode\":\"closest\",\"mapbox\":{\"style\":\"light\"},\"paper_bgcolor\":\"white\",\"plot_bgcolor\":\"#E5ECF6\",\"polar\":{\"angularaxis\":{\"gridcolor\":\"white\",\"linecolor\":\"white\",\"ticks\":\"\"},\"bgcolor\":\"#E5ECF6\",\"radialaxis\":{\"gridcolor\":\"white\",\"linecolor\":\"white\",\"ticks\":\"\"}},\"scene\":{\"xaxis\":{\"backgroundcolor\":\"#E5ECF6\",\"gridcolor\":\"white\",\"gridwidth\":2,\"linecolor\":\"white\",\"showbackground\":true,\"ticks\":\"\",\"zerolinecolor\":\"white\"},\"yaxis\":{\"backgroundcolor\":\"#E5ECF6\",\"gridcolor\":\"white\",\"gridwidth\":2,\"linecolor\":\"white\",\"showbackground\":true,\"ticks\":\"\",\"zerolinecolor\":\"white\"},\"zaxis\":{\"backgroundcolor\":\"#E5ECF6\",\"gridcolor\":\"white\",\"gridwidth\":2,\"linecolor\":\"white\",\"showbackground\":true,\"ticks\":\"\",\"zerolinecolor\":\"white\"}},\"shapedefaults\":{\"line\":{\"color\":\"#2a3f5f\"}},\"ternary\":{\"aaxis\":{\"gridcolor\":\"white\",\"linecolor\":\"white\",\"ticks\":\"\"},\"baxis\":{\"gridcolor\":\"white\",\"linecolor\":\"white\",\"ticks\":\"\"},\"bgcolor\":\"#E5ECF6\",\"caxis\":{\"gridcolor\":\"white\",\"linecolor\":\"white\",\"ticks\":\"\"}},\"title\":{\"x\":0.05},\"xaxis\":{\"automargin\":true,\"gridcolor\":\"white\",\"linecolor\":\"white\",\"ticks\":\"\",\"title\":{\"standoff\":15},\"zerolinecolor\":\"white\",\"zerolinewidth\":2},\"yaxis\":{\"automargin\":true,\"gridcolor\":\"white\",\"linecolor\":\"white\",\"ticks\":\"\",\"title\":{\"standoff\":15},\"zerolinecolor\":\"white\",\"zerolinewidth\":2}}},\"title\":{\"text\":\"Total number of Subscribers for each Country\"}},                        {\"responsive\": true}                    ).then(function(){\n",
       "                            \n",
       "var gd = document.getElementById('c4329306-870b-4368-8b6e-2575d75e1e7b');\n",
       "var x = new MutationObserver(function (mutations, observer) {{\n",
       "        var display = window.getComputedStyle(gd).display;\n",
       "        if (!display || display === 'none') {{\n",
       "            console.log([gd, 'removed!']);\n",
       "            Plotly.purge(gd);\n",
       "            observer.disconnect();\n",
       "        }}\n",
       "}});\n",
       "\n",
       "// Listen for the removal of the full notebook cells\n",
       "var notebookContainer = gd.closest('#notebook-container');\n",
       "if (notebookContainer) {{\n",
       "    x.observe(notebookContainer, {childList: true});\n",
       "}}\n",
       "\n",
       "// Listen for the clearing of the current output cell\n",
       "var outputEl = gd.closest('.output');\n",
       "if (outputEl) {{\n",
       "    x.observe(outputEl, {childList: true});\n",
       "}}\n",
       "\n",
       "                        })                };                });            </script>        </div>"
      ]
     },
     "metadata": {},
     "output_type": "display_data"
    }
   ],
   "source": [
    "loc = df[['Subscribers (millions)','Country']].groupby('Country').sum().index\n",
    "value = df[['Subscribers (millions)','Country']].groupby('Country').sum().values.flatten()\n",
    "data = dict(type='choropleth', locations=loc,locationmode='country names', z=value, text=value, colorbar={'title':'Subscribers'})\n",
    "layout=dict(title='Total number of Subscribers for each Country', geo=dict(showframe=True,projection={'type':'mercator'}))\n",
    "\n",
    "choromap3 = go.Figure(data=[data], layout=layout)\n",
    "\n",
    "iplot(choromap3)"
   ]
  },
  {
   "cell_type": "markdown",
   "id": "192b2266",
   "metadata": {},
   "source": [
    "# Most subscribed Youtube channel"
   ]
  },
  {
   "cell_type": "code",
   "execution_count": 30,
   "id": "4b2192c4",
   "metadata": {},
   "outputs": [
    {
     "data": {
      "text/plain": [
       "'T-Series'"
      ]
     },
     "execution_count": 30,
     "metadata": {},
     "output_type": "execute_result"
    }
   ],
   "source": [
    "df[['Name','Subscribers (millions)']].sort_values('Subscribers (millions)',ascending=False).iloc[0]['Name']"
   ]
  },
  {
   "cell_type": "markdown",
   "id": "d4960723",
   "metadata": {},
   "source": [
    "# Highest number of Subscribers for a Youtube channel"
   ]
  },
  {
   "cell_type": "code",
   "execution_count": 31,
   "id": "7a72c863",
   "metadata": {},
   "outputs": [
    {
     "data": {
      "text/plain": [
       "232.0"
      ]
     },
     "execution_count": 31,
     "metadata": {},
     "output_type": "execute_result"
    }
   ],
   "source": [
    "df[['Name','Subscribers (millions)']].sort_values('Subscribers (millions)',ascending=False).iloc[0]['Subscribers (millions)']"
   ]
  },
  {
   "cell_type": "markdown",
   "id": "19c15821",
   "metadata": {},
   "source": [
    "# Total number of branded and unbranded channels"
   ]
  },
  {
   "cell_type": "code",
   "execution_count": 32,
   "id": "618a1c69",
   "metadata": {},
   "outputs": [
    {
     "data": {
      "text/plain": [
       "Yes    31\n",
       "No     19\n",
       "Name: Brand channel, dtype: int64"
      ]
     },
     "execution_count": 32,
     "metadata": {},
     "output_type": "execute_result"
    }
   ],
   "source": [
    "df['Brand channel'].value_counts()"
   ]
  },
  {
   "cell_type": "markdown",
   "id": "894015cd",
   "metadata": {},
   "source": [
    "# Highest number of Subscribers for a Branded Youtube channel"
   ]
  },
  {
   "cell_type": "code",
   "execution_count": 33,
   "id": "5678c5a0",
   "metadata": {},
   "outputs": [
    {
     "data": {
      "text/plain": [
       "Name                      T-Series\n",
       "Subscribers (millions)       232.0\n",
       "Brand channel                  Yes\n",
       "Name: 0, dtype: object"
      ]
     },
     "execution_count": 33,
     "metadata": {},
     "output_type": "execute_result"
    }
   ],
   "source": [
    "df1 = df[['Name','Subscribers (millions)','Brand channel']].sort_values('Subscribers (millions)',ascending=False)\n",
    "df1[df1['Brand channel']=='Yes'].sort_values('Subscribers (millions)', ascending=False).iloc[0]"
   ]
  },
  {
   "cell_type": "markdown",
   "id": "db8d9574",
   "metadata": {},
   "source": [
    "# Highest number of Subscribers for an unbranded Youtube channel"
   ]
  },
  {
   "cell_type": "code",
   "execution_count": 34,
   "id": "cd348ad0",
   "metadata": {},
   "outputs": [
    {
     "data": {
      "text/plain": [
       "Name                      MrBeast\n",
       "Subscribers (millions)      124.0\n",
       "Brand channel                  No\n",
       "Name: 3, dtype: object"
      ]
     },
     "execution_count": 34,
     "metadata": {},
     "output_type": "execute_result"
    }
   ],
   "source": [
    "df1 = df[['Name','Subscribers (millions)','Brand channel']].sort_values('Subscribers (millions)',ascending=False)\n",
    "df1[df1['Brand channel']=='No'].sort_values('Subscribers (millions)', ascending=False).iloc[0]"
   ]
  },
  {
   "cell_type": "markdown",
   "id": "661a1239",
   "metadata": {},
   "source": [
    "# Language used by the most Subscribed Youtube channel"
   ]
  },
  {
   "cell_type": "code",
   "execution_count": 35,
   "id": "48c80d28",
   "metadata": {},
   "outputs": [
    {
     "data": {
      "text/plain": [
       "'Hindi'"
      ]
     },
     "execution_count": 35,
     "metadata": {},
     "output_type": "execute_result"
    }
   ],
   "source": [
    "df[['Name','Subscribers (millions)','Primary language']].sort_values('Subscribers (millions)',ascending=False).iloc[0]['Primary language']"
   ]
  },
  {
   "cell_type": "markdown",
   "id": "40a04549",
   "metadata": {},
   "source": [
    "# Category of the most Subscribed Youtube channel"
   ]
  },
  {
   "cell_type": "code",
   "execution_count": 36,
   "id": "ca676440",
   "metadata": {},
   "outputs": [
    {
     "data": {
      "text/plain": [
       "'Music'"
      ]
     },
     "execution_count": 36,
     "metadata": {},
     "output_type": "execute_result"
    }
   ],
   "source": [
    "df[['Name','Subscribers (millions)','Category']].sort_values('Subscribers (millions)',ascending=False).iloc[0]['Category']"
   ]
  },
  {
   "cell_type": "markdown",
   "id": "cdb2a639",
   "metadata": {},
   "source": [
    "# Country of the most Subscribed Youtube channel"
   ]
  },
  {
   "cell_type": "code",
   "execution_count": 37,
   "id": "8f2c1e54",
   "metadata": {},
   "outputs": [
    {
     "data": {
      "text/plain": [
       "Name                      T-Series\n",
       "Subscribers (millions)       232.0\n",
       "Country                      India\n",
       "Name: 0, dtype: object"
      ]
     },
     "execution_count": 37,
     "metadata": {},
     "output_type": "execute_result"
    }
   ],
   "source": [
    "df[['Name','Subscribers (millions)','Country']].sort_values('Subscribers (millions)',ascending=False).iloc[0]"
   ]
  },
  {
   "cell_type": "markdown",
   "id": "c309f2a1",
   "metadata": {},
   "source": [
    "# Thankyou"
   ]
  }
 ],
 "metadata": {
  "kernelspec": {
   "display_name": "Python 3 (ipykernel)",
   "language": "python",
   "name": "python3"
  },
  "language_info": {
   "codemirror_mode": {
    "name": "ipython",
    "version": 3
   },
   "file_extension": ".py",
   "mimetype": "text/x-python",
   "name": "python",
   "nbconvert_exporter": "python",
   "pygments_lexer": "ipython3",
   "version": "3.9.12"
  }
 },
 "nbformat": 4,
 "nbformat_minor": 5
}
